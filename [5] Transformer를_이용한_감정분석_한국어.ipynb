{
  "nbformat": 4,
  "nbformat_minor": 0,
  "metadata": {
    "colab": {
      "name": "[5] Transformer를 이용한 감정분석 -한국어",
      "provenance": [],
      "collapsed_sections": []
    },
    "kernelspec": {
      "name": "python3",
      "display_name": "Python 3"
    },
    "accelerator": "GPU"
  },
  "cells": [
    {
      "cell_type": "markdown",
      "metadata": {
        "id": "GBZpkk8u3RCi",
        "colab_type": "text"
      },
      "source": [
        "# Transformer를 이용한 감정분석기 - 한국어 Data\n",
        "\n",
        "제작자: Park Chanjun (박찬준) <br>\n",
        "소속: Korea University Natural Language Processing & Artificial Intelligence Lab<br>\n",
        "Email: bcj1210@naver.com<br>\n",
        "참고자료: https://keras.io/\n"
      ]
    },
    {
      "cell_type": "markdown",
      "metadata": {
        "id": "Ii2DcVjb3ZiE",
        "colab_type": "text"
      },
      "source": [
        "## Naver Sentiment Movie Corpus(NSMC) 준비"
      ]
    },
    {
      "cell_type": "code",
      "metadata": {
        "id": "oA8RYPVo3N_q",
        "colab_type": "code",
        "colab": {}
      },
      "source": [
        "# 네이버 영화리뷰 감정분석 데이터 다운로드\n",
        "!git clone https://github.com/e9t/nsmc.git"
      ],
      "execution_count": 0,
      "outputs": []
    },
    {
      "cell_type": "markdown",
      "metadata": {
        "id": "UtXfZ1yl258r",
        "colab_type": "text"
      },
      "source": [
        "## 데이터 전처리"
      ]
    },
    {
      "cell_type": "code",
      "metadata": {
        "id": "vRvSF6MD3ida",
        "colab_type": "code",
        "colab": {
          "base_uri": "https://localhost:8080/",
          "height": 53
        },
        "outputId": "7b6a5118-1387-42b5-eec0-e56a4effe893"
      },
      "source": [
        "import pandas as pd\n",
        "import numpy as np\n",
        "from tensorflow.keras.preprocessing.sequence import pad_sequences\n",
        "from tensorflow.keras.preprocessing.text import Tokenizer\n",
        "import keras\n",
        "\n",
        "train = pd.read_csv(\"nsmc/ratings_train.txt\", sep='\\t')\n",
        "test = pd.read_csv(\"nsmc/ratings_test.txt\", sep='\\t')\n",
        "\n",
        "print(train.shape)\n",
        "print(test.shape)"
      ],
      "execution_count": 23,
      "outputs": [
        {
          "output_type": "stream",
          "text": [
            "(150000, 3)\n",
            "(50000, 3)\n"
          ],
          "name": "stdout"
        }
      ]
    },
    {
      "cell_type": "code",
      "metadata": {
        "id": "OediZsn63mHQ",
        "colab_type": "code",
        "colab": {}
      },
      "source": [
        "X_train = []\n",
        "X_test = []\n",
        "\n",
        "tokenizer = Tokenizer()\n",
        "\n",
        "for sentence in train['document']:\n",
        "  X_train.append([word for word in str(sentence).split(\" \")])\n",
        "\n",
        "for sentence in test['document']:\n",
        "  X_test.append([word for word in str(sentence).split(\" \")])\n",
        "\n",
        "tokenizer.fit_on_texts(X_train) #단어 인덱스를 구축합니다.\n",
        "tokenizer.fit_on_texts(X_test) #단어 인덱스를 구축합니다.\n",
        "\n",
        "X_train = tokenizer.texts_to_sequences(X_train) #문자열을 정수 인덱스의 리스트로 변환합니다.\n",
        "X_test = tokenizer.texts_to_sequences(X_test) #문자열을 정수 인덱스의 리스트로 변환합니다.\n",
        "\n",
        "maxlen = 128  \n",
        "vocab_size = len(tokenizer.word_index)+1 # 단어의 수\n",
        "\n",
        "X_train = keras.preprocessing.sequence.pad_sequences(X_train, maxlen=maxlen)#패딩\n",
        "X_test = keras.preprocessing.sequence.pad_sequences(X_test, maxlen=maxlen)#패딩\n",
        "\n",
        "labels_train = train['label'].values\n",
        "labels_test = test['label'].values"
      ],
      "execution_count": 0,
      "outputs": []
    },
    {
      "cell_type": "markdown",
      "metadata": {
        "id": "J3m-oX6U32lq",
        "colab_type": "text"
      },
      "source": [
        "## Transformer 모델"
      ]
    },
    {
      "cell_type": "code",
      "metadata": {
        "id": "a4OCs-O437Ee",
        "colab_type": "code",
        "colab": {}
      },
      "source": [
        "import tensorflow as tf\n",
        "from tensorflow import keras\n",
        "from tensorflow.keras import layers\n",
        "\n",
        "class MultiHeadSelfAttention(layers.Layer):\n",
        "    def __init__(self, embed_dim, num_heads=8):\n",
        "        super(MultiHeadSelfAttention, self).__init__()\n",
        "        self.embed_dim = embed_dim\n",
        "        self.num_heads = num_heads\n",
        "        if embed_dim % num_heads != 0:\n",
        "            raise ValueError(\n",
        "                f\"embedding dimension = {embed_dim} should be divisible by number of heads = {num_heads}\"\n",
        "            )\n",
        "        self.projection_dim = embed_dim // num_heads\n",
        "        self.query_dense = layers.Dense(embed_dim)\n",
        "        self.key_dense = layers.Dense(embed_dim)\n",
        "        self.value_dense = layers.Dense(embed_dim)\n",
        "        self.combine_heads = layers.Dense(embed_dim)\n",
        "\n",
        "    def attention(self, query, key, value):\n",
        "        score = tf.matmul(query, key, transpose_b=True)\n",
        "        dim_key = tf.cast(tf.shape(key)[-1], tf.float32)\n",
        "        scaled_score = score / tf.math.sqrt(dim_key)\n",
        "        weights = tf.nn.softmax(scaled_score, axis=-1)\n",
        "        output = tf.matmul(weights, value)\n",
        "        return output, weights\n",
        "\n",
        "    def separate_heads(self, x, batch_size):\n",
        "        x = tf.reshape(x, (batch_size, -1, self.num_heads, self.projection_dim))\n",
        "        return tf.transpose(x, perm=[0, 2, 1, 3])\n",
        "\n",
        "    def call(self, inputs):\n",
        "        # x.shape = [batch_size, seq_len, embedding_dim]\n",
        "        batch_size = tf.shape(inputs)[0]\n",
        "        query = self.query_dense(inputs)  # (batch_size, seq_len, embed_dim)\n",
        "        key = self.key_dense(inputs)  # (batch_size, seq_len, embed_dim)\n",
        "        value = self.value_dense(inputs)  # (batch_size, seq_len, embed_dim)\n",
        "        query = self.separate_heads(\n",
        "            query, batch_size\n",
        "        )  # (batch_size, num_heads, seq_len, projection_dim)\n",
        "        key = self.separate_heads(\n",
        "            key, batch_size\n",
        "        )  # (batch_size, num_heads, seq_len, projection_dim)\n",
        "        value = self.separate_heads(\n",
        "            value, batch_size\n",
        "        )  # (batch_size, num_heads, seq_len, projection_dim)\n",
        "        attention, weights = self.attention(query, key, value)\n",
        "        attention = tf.transpose(\n",
        "            attention, perm=[0, 2, 1, 3]\n",
        "        )  # (batch_size, seq_len, num_heads, projection_dim)\n",
        "        concat_attention = tf.reshape(\n",
        "            attention, (batch_size, -1, self.embed_dim)\n",
        "        )  # (batch_size, seq_len, embed_dim)\n",
        "        output = self.combine_heads(\n",
        "            concat_attention\n",
        "        )  # (batch_size, seq_len, embed_dim)\n",
        "        return output\n",
        "\n",
        "class TransformerBlock(layers.Layer):\n",
        "    def __init__(self, embed_dim, num_heads, ff_dim, rate=0.1):\n",
        "        super(TransformerBlock, self).__init__()\n",
        "        self.att = MultiHeadSelfAttention(embed_dim, num_heads)\n",
        "        self.ffn = keras.Sequential(\n",
        "            [layers.Dense(ff_dim, activation=\"relu\"), layers.Dense(embed_dim),]\n",
        "        )\n",
        "        self.layernorm1 = layers.LayerNormalization(epsilon=1e-6)\n",
        "        self.layernorm2 = layers.LayerNormalization(epsilon=1e-6)\n",
        "        self.dropout1 = layers.Dropout(rate)\n",
        "        self.dropout2 = layers.Dropout(rate)\n",
        "\n",
        "    def call(self, inputs, training):\n",
        "        attn_output = self.att(inputs) #Multihead Attn 블록\n",
        "        attn_output = self.dropout1(attn_output, training=training) #드롭아웃\n",
        "        out1 = self.layernorm1(inputs + attn_output) #LM + Residual\n",
        "        ffn_output = self.ffn(out1) #FF 블록\n",
        "        ffn_output = self.dropout2(ffn_output, training=training) #드롭아웃\n",
        "        return self.layernorm2(out1 + ffn_output) #LM + Residual\n",
        "\n",
        "class TokenAndPositionEmbedding(layers.Layer):\n",
        "    def __init__(self, maxlen, vocab_size, emded_dim):\n",
        "        super(TokenAndPositionEmbedding, self).__init__()\n",
        "        self.token_emb = layers.Embedding(input_dim=vocab_size, output_dim=emded_dim)\n",
        "        self.pos_emb = layers.Embedding(input_dim=maxlen, output_dim=emded_dim)\n",
        "\n",
        "    def call(self, x):\n",
        "        maxlen = tf.shape(x)[-1]\n",
        "        positions = tf.range(start=0, limit=maxlen, delta=1) #포지션 정보\n",
        "        positions = self.pos_emb(positions) #포지션 임베딩\n",
        "        x = self.token_emb(x) #토큰임베딩\n",
        "        return x + positions #합치기"
      ],
      "execution_count": 0,
      "outputs": []
    },
    {
      "cell_type": "code",
      "metadata": {
        "id": "ics5vkcn31tX",
        "colab_type": "code",
        "colab": {}
      },
      "source": [
        "embed_dim = 32  # Embedding size for each token\n",
        "num_heads = 2  # Number of attention heads\n",
        "ff_dim = 32  # Hidden layer size in feed forward network inside transformer\n",
        "\n",
        "inputs = layers.Input(shape=(maxlen,)) #처음 입력\n",
        "embedding_layer = TokenAndPositionEmbedding(maxlen, vocab_size, embed_dim) #객체 생성\n",
        "x = embedding_layer(inputs)  #포지셔널 임베딩\n",
        "transformer_block = TransformerBlock(embed_dim, num_heads, ff_dim) #객체 생성\n",
        "x = transformer_block(x) #트랜스포머 \n",
        "x = layers.GlobalAveragePooling1D()(x) #Average Pooling\n",
        "x = layers.Dropout(0.1)(x) #드롯아웃\n",
        "x = layers.Dense(20, activation=\"relu\")(x) #FFNN\n",
        "x = layers.Dropout(0.1)(x) #드롭아웃\n",
        "outputs = layers.Dense(2, activation=\"softmax\")(x) #Softmax\n",
        "\n",
        "model = keras.Model(inputs=inputs, outputs=outputs) #모델 생성"
      ],
      "execution_count": 0,
      "outputs": []
    },
    {
      "cell_type": "markdown",
      "metadata": {
        "id": "dhr3zshm4Vhn",
        "colab_type": "text"
      },
      "source": [
        "## 학습"
      ]
    },
    {
      "cell_type": "code",
      "metadata": {
        "id": "Oidc0gf_4DFy",
        "colab_type": "code",
        "colab": {
          "base_uri": "https://localhost:8080/",
          "height": 126
        },
        "outputId": "99963aa0-ce9c-419a-d18b-0a2e982bf3d4"
      },
      "source": [
        "model.compile(\"adam\", \"sparse_categorical_crossentropy\", metrics=[\"accuracy\"])\n",
        "\n",
        "history = model.fit(\n",
        "    X_train, labels_train, batch_size=32, epochs=3, validation_split=0.2\n",
        ")"
      ],
      "execution_count": 29,
      "outputs": [
        {
          "output_type": "stream",
          "text": [
            "Epoch 1/3\n",
            "3750/3750 [==============================] - 592s 158ms/step - loss: 0.2069 - accuracy: 0.9228 - val_loss: 0.4545 - val_accuracy: 0.7938\n",
            "Epoch 2/3\n",
            "3750/3750 [==============================] - 589s 157ms/step - loss: 0.0709 - accuracy: 0.9762 - val_loss: 0.6067 - val_accuracy: 0.7701\n",
            "Epoch 3/3\n",
            "3750/3750 [==============================] - 590s 157ms/step - loss: 0.0327 - accuracy: 0.9898 - val_loss: 0.8690 - val_accuracy: 0.7791\n"
          ],
          "name": "stdout"
        }
      ]
    },
    {
      "cell_type": "markdown",
      "metadata": {
        "id": "NU_6l1N-4XN1",
        "colab_type": "text"
      },
      "source": [
        "## 성능 측정"
      ]
    },
    {
      "cell_type": "code",
      "metadata": {
        "id": "33LqM1MG4GDm",
        "colab_type": "code",
        "colab": {
          "base_uri": "https://localhost:8080/",
          "height": 489
        },
        "outputId": "b2403b64-d246-4fa5-82bd-3889094222a8"
      },
      "source": [
        "#모델 정보 출력\n",
        "model.summary() \n",
        "\n",
        "#성능 측정\n",
        "test_loss,test_acc=model.evaluate(X_test,labels_test)\n",
        "print(\"Test_acc: \",test_acc)"
      ],
      "execution_count": 31,
      "outputs": [
        {
          "output_type": "stream",
          "text": [
            "Model: \"model_4\"\n",
            "_________________________________________________________________\n",
            "Layer (type)                 Output Shape              Param #   \n",
            "=================================================================\n",
            "input_5 (InputLayer)         [(None, 128)]             0         \n",
            "_________________________________________________________________\n",
            "token_and_position_embedding (None, 128, 32)           14398784  \n",
            "_________________________________________________________________\n",
            "transformer_block_4 (Transfo (None, 128, 32)           6464      \n",
            "_________________________________________________________________\n",
            "global_average_pooling1d_4 ( (None, 32)                0         \n",
            "_________________________________________________________________\n",
            "dropout_18 (Dropout)         (None, 32)                0         \n",
            "_________________________________________________________________\n",
            "dense_38 (Dense)             (None, 20)                660       \n",
            "_________________________________________________________________\n",
            "dropout_19 (Dropout)         (None, 20)                0         \n",
            "_________________________________________________________________\n",
            "dense_39 (Dense)             (None, 2)                 42        \n",
            "=================================================================\n",
            "Total params: 14,405,950\n",
            "Trainable params: 14,405,950\n",
            "Non-trainable params: 0\n",
            "_________________________________________________________________\n",
            "1563/1563 [==============================] - 10s 6ms/step - loss: 0.8971 - accuracy: 0.7729\n",
            "Test_acc:  0.7729200124740601\n"
          ],
          "name": "stdout"
        }
      ]
    }
  ]
}